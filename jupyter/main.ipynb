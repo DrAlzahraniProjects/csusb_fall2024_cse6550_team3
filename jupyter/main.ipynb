{
 "cells": [
  {
   "cell_type": "markdown",
   "id": "52d9ab33-c3e1-42d5-b4bd-e0900aa19f83",
   "metadata": {},
   "source": [
    "# Textbook Chatbot\n",
    "\n",
    "The Textbook Chatbot project for CSE 6550 is designed to assist with queries related to the textbook, \"Guide to the Software Engineering Body of Knowledge\"."
   ]
  },
  {
   "cell_type": "markdown",
   "id": "ed4cd19d-dd0e-47ab-89e5-ebf9eaaeccd6",
   "metadata": {},
   "source": [
    "## Table of Contents\n",
    "1. [Setup](#1.-Setup)\n",
    "2. [Inference](#2.-Inference)"
   ]
  },
  {
   "cell_type": "markdown",
   "id": "156c8cf9-720d-494f-9fad-3a3e4b4909b0",
   "metadata": {},
   "source": [
    "## 1. Setup"
   ]
  },
  {
   "cell_type": "markdown",
   "id": "92bca74c-76a9-4f2d-8e4e-d4c042fdf29b",
   "metadata": {},
   "source": [
    "Import required libraries and modules"
   ]
  },
  {
   "cell_type": "code",
   "execution_count": 1,
   "id": "7fbc0660-83d1-4e20-934c-ada34d88e0c6",
   "metadata": {},
   "outputs": [
    {
     "name": "stderr",
     "output_type": "stream",
     "text": [
      "/opt/miniforge/envs/team3_env/lib/python3.11/site-packages/sentence_transformers/cross_encoder/CrossEncoder.py:13: TqdmExperimentalWarning: Using `tqdm.autonotebook.tqdm` in notebook mode. Use `tqdm.tqdm` instead to force console mode (e.g. in jupyter console)\n",
      "  from tqdm.autonotebook import tqdm, trange\n"
     ]
    },
    {
     "name": "stdout",
     "output_type": "stream",
     "text": [
      "Loading documents from /app/data/swebok...\n",
      "Loading existing FAISS vector store from /app/data/swebok/faiss_indexes/collection...\n",
      "\n"
     ]
    }
   ],
   "source": [
    "import os\n",
    "import sys\n",
    "parent_dir = os.path.dirname(os.getcwd())\n",
    "sys.path.append(parent_dir)\n",
    "from ipywidgets import widgets\n",
    "from backend.inference import chat_completion"
   ]
  },
  {
   "cell_type": "markdown",
   "id": "866c1cd0-8709-4e78-a7c7-eaf07dc11a29",
   "metadata": {},
   "source": [
    "Setup question input widget"
   ]
  },
  {
   "cell_type": "code",
   "execution_count": 2,
   "id": "86d3a14d-f6ce-4128-9566-a0cc5658c5dd",
   "metadata": {},
   "outputs": [],
   "source": [
    "question_widget = widgets.Text(\n",
    "    value='',\n",
    "    description='Enter your question:',\n",
    "    placeholder='Type your question here...',\n",
    "    style={'description_width': 'initial'},\n",
    "    layout={'width': '80%'}\n",
    ")"
   ]
  },
  {
   "cell_type": "markdown",
   "id": "2ec66aff-6b91-4345-929c-541110aec2ea",
   "metadata": {},
   "source": [
    "## 2. Inference"
   ]
  },
  {
   "cell_type": "code",
   "execution_count": 3,
   "id": "0e383c7a-c64c-4473-b4f7-53938367f66b",
   "metadata": {},
   "outputs": [
    {
     "data": {
      "application/vnd.jupyter.widget-view+json": {
       "model_id": "8f0e863daf8d49da9b08b3368a9de92b",
       "version_major": 2,
       "version_minor": 0
      },
      "text/plain": [
       "Text(value='', description='Enter your question:', layout=Layout(width='80%'), placeholder='Type your question…"
      ]
     },
     "metadata": {},
     "output_type": "display_data"
    }
   ],
   "source": [
    "# Display the input widget\n",
    "display(question_widget)\n",
    "user_question = question_widget.value\n",
    "if not user_question:\n",
    "    user_question = \"Who is Hironori Washizaki?\""
   ]
  },
  {
   "cell_type": "code",
   "execution_count": 4,
   "id": "903b317e-ef9e-40fe-af66-ad3c49c92d4d",
   "metadata": {},
   "outputs": [
    {
     "name": "stdout",
     "output_type": "stream",
     "text": [
      "Running prompt: Who is Hironori Washizaki?\n",
      "Hironori Washizaki is an individual associated with Waseda University and the IEEE Computer Society. According to the context provided, he is set to become the President-Elect of the IEEE Computer Society in 2024 and will serve as the President in 2025. He is also an editor for the \"Guide to the Software Engineering Body of Knowledge\" v4.0.\n",
      "\n",
      "\n",
      "Sources: <a href=\"/team3/?view=pdf&file=/app/data/swebok/textbook.pdf&page=1\" target=\"_blank\">[1]</a><a href=\"/team3/?view=pdf&file=/app/data/swebok/textbook.pdf&page=4\" target=\"_blank\">[4]</a>"
     ]
    }
   ],
   "source": [
    "for chunk, model_name in chat_completion(user_question):\n",
    "    print(chunk, end='')"
   ]
  },
  {
   "cell_type": "code",
   "execution_count": null,
   "id": "abbf6bba-eb02-4458-aea0-9850c20a390f",
   "metadata": {},
   "outputs": [],
   "source": []
  }
 ],
 "metadata": {
  "kernelspec": {
   "display_name": "Python 3 (ipykernel)",
   "language": "python",
   "name": "python3"
  },
  "language_info": {
   "codemirror_mode": {
    "name": "ipython",
    "version": 3
   },
   "file_extension": ".py",
   "mimetype": "text/x-python",
   "name": "python",
   "nbconvert_exporter": "python",
   "pygments_lexer": "ipython3",
   "version": "3.11.10"
  }
 },
 "nbformat": 4,
 "nbformat_minor": 5
}
