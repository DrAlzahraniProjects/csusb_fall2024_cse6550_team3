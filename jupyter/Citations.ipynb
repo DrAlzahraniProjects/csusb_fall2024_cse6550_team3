{
 "cells": [
  {
   "cell_type": "markdown",
   "id": "ca74f737-a3e3-4096-b1e8-751de6b451fa",
   "metadata": {},
   "source": [
    "# Documenation for backend/citations.py"
   ]
  },
  {
   "cell_type": "markdown",
   "id": "989471b5-c6c0-4d8c-864c-6e693a1e6c3c",
   "metadata": {},
   "source": [
    "### Overview of citation.py \n",
    "\n",
    "- Generates citation links: Creates formatted links to specific pages in the textbook PDF.\n",
    "\n",
    "- Extracts answers: Retrieves answers and associated source references from RAG responses.\n",
    "\n",
    "- Handles page adjustments: Manages zero-indexing and adjusts for chapter starting points.\n",
    "\n",
    "### Description of code:\n",
    "\n",
    "#### Importing libraries \n",
    "\n",
    "`os` library: Built-in library for OS interaction, managing file and directory paths.\n",
    "\n",
    "`roman` library: This module is used to convert integers to roman numerals, which will be utilized for page references in citations."
   ]
  },
  {
   "cell_type": "code",
   "execution_count": 2,
   "id": "0a364c75-69e9-490d-8057-954c3c1b013d",
   "metadata": {},
   "outputs": [
    {
     "name": "stdout",
     "output_type": "stream",
     "text": [
      "Modules imported: 'os' and 'toRoman' from the 'roman' package.\n"
     ]
    }
   ],
   "source": [
    "# Importing libraries for file management and Roman numeral conversion\n",
    "import os\n",
    "from roman import toRoman\n",
    "\n",
    "# Output message indicating action taken\n",
    "print(\"Modules imported: 'os' and 'toRoman' from the 'roman' package.\")"
   ]
  },
  {
   "cell_type": "markdown",
   "id": "6bdeb1ff-6d5c-4739-b7e0-021541ab6512",
   "metadata": {},
   "source": [
    "#### Description:\n",
    "\n",
    "### Function 1: default_textbook \n",
    "\n",
    "- Purpose of the function: Generate hyperlinks for referencing pages in the SWEBOK textbook.\n",
    "\n",
    "- Zero-indexing adjustment: Adjusts zero-indexed pages to user-friendly numbering for navigation.\n",
    "\n",
    "- Custom page handling: Converts pages before Chapter 1 to Roman numerals for clarity.\n",
    "\n",
    "- Integration with chatbot: Provides accurate citations for user queries within the chatbot.\n",
    "\n",
    "- Enhancing user experience: Improves accessibility to textbook content through direct hyperlink navigation."
   ]
  },
  {
   "cell_type": "code",
   "execution_count": 1,
   "id": "989533f5-2e7e-48fa-93ac-562640ae67ce",
   "metadata": {},
   "outputs": [
    {
     "name": "stdout",
     "output_type": "stream",
     "text": [
      "Citation link created.\n",
      "<a href=\"/team3/?view=pdf&file=sample.pdf&page=36\" target=\"_blank\">[3]</a>\n"
     ]
    }
   ],
   "source": [
    "def default_textbook(page, pdf_path):\n",
    "    # The documents are zero indexed. So page 1 of the pdf is page 0 in docs\n",
    "    # Chapter 1 starts at doc 33 (page 34 of the PDF)\n",
    "    adjusted_page = page - 33 # Adjust the page number for zero-indexing and Chapter 1\n",
    "    if adjusted_page >= 0:  # For pages starting from Chapter 1\n",
    "        link = f'<a href=\"/team3/?view=pdf&file={pdf_path}&page={page + 1}\" target=\"_blank\">[{adjusted_page + 1}]</a>'\n",
    "    else:  # For pages before Chapter 1\n",
    "        adjusted_page = \"Cover\" if page == 0 else toRoman(page)  # Convert to Roman numerals for pages before Chapter 1\n",
    "        link = f'<a href=\"/team3/?view=pdf&file={pdf_path}&page={page + 1}\" target=\"_blank\">[{adjusted_page}]</a>'\n",
    "    \n",
    "    # Output message indicating action taken\n",
    "    print(\"Citation link created.\")\n",
    "    return link\n",
    "\n",
    "# function call\n",
    "citation_link = default_textbook(35, \"sample.pdf\") #print statement indicating the link has been created\n",
    "print(citation_link) # print the formatted citation link"
   ]
  },
  {
   "cell_type": "markdown",
   "id": "b85460a6-1bea-491d-a8c6-cb57cec2bbc1",
   "metadata": {},
   "source": [
    "#### Link breakdown:\n",
    "\n",
    "<a href=\"/team3/?view=pdf&file=sample.pdf&page=36\" target=\"_blank\">[3]</a>\n",
    "\n",
    "If `page = 35` and `pdf_path = \"sample.pdf\"`, the function returns:\n",
    "\n",
    "- URL: `/team3/?view=pdf&file=sample.pdf&page=36` — This opens `sample.pdf` to the specified page (36).\n",
    "\n",
    "- Displayed Text: `[3]` — This represents the adjusted page number within the document (after page 33), shown as 3 in this case.\n",
    "\n",
    "- The result is a clickable HTML link that users can use to access a specific page in the PDF."
   ]
  },
  {
   "cell_type": "markdown",
   "id": "da758afd-44d0-4356-be4a-871a312a0044",
   "metadata": {},
   "source": [
    "#### Description:\n",
    "\n",
    "### Answer extraction using RAG\n",
    "\n",
    "- Function purpose: Extracts answers and source references from the RAG chain's response.\n",
    "\n",
    "- PDF path management: Retrieves the textbook PDF path dynamically from environment configurations.\n",
    "\n",
    "- Source link generation: Creates hyperlinks for source references based on page numbers and context.\n",
    "\n",
    "- Special case handling: Uses a dedicated function for generating citations for specific textbooks.\n",
    "\n",
    "- Formats final output: Compiles the answer and sources into a structured string for display."
   ]
  },
  {
   "cell_type": "code",
   "execution_count": 3,
   "id": "b1b0cafc-2f55-42eb-b86b-22f105d40005",
   "metadata": {},
   "outputs": [
    {
     "name": "stdout",
     "output_type": "stream",
     "text": [
      "Answer extracted successfully.\n",
      "This is the answer extracted from the RAG chain.\n",
      "\n",
      "\n",
      "Sources: <a href=\"/team3/?view=pdf&file=/app/data/swebok/textbook.pdf&page=35\" target=\"_blank\">[35]</a><a href=\"/team3/?view=pdf&file=/app/data/swebok/textbook.pdf&page=51\" target=\"_blank\">[51]</a>\n"
     ]
    }
   ],
   "source": [
    "def get_answer_with_source(response):\n",
    "    \"\"\"\n",
    "    Extract the answer and relevant source information from the response.\n",
    "    \n",
    "    This function processes the response from the RAG (Retrieval-Augmented Generation) chain,\n",
    "    extracting the answer and up to 5 source references (page numbers) from the context documents.\n",
    "\n",
    "    Args:\n",
    "      response (dict): The response dictionary from the RAG chain,\n",
    "                       containing 'answer' and 'context' keys.\n",
    "    Returns:\n",
    "      str: A formatted string containing the answer followed by source information.\n",
    "    \"\"\"\n",
    "    \n",
    "    # Retrieve the path to the PDF file from environment variables\n",
    "    pdf_path = f\"{os.getenv('CORPUS_SOURCE')}/textbook.pdf\"\n",
    "    \n",
    "    # Extract the answer from the response; default to 'No answer found.'\n",
    "    answer = response.get('answer', 'No answer found.')  \n",
    "    \n",
    "    # Initialize a list to hold source references\n",
    "    sources = []  \n",
    "    \n",
    "    # Iterate over the context documents and get the top 5 sources\n",
    "    for doc in response['context'][:5]:\n",
    "        # Get the page number from metadata, default to 'Unknown page'\n",
    "        page = doc['metadata'].get('page', 'Unknown page')  \n",
    "        \n",
    "        # Create a hyperlink for the source reference (1-based indexing)\n",
    "        link = f'<a href=\"/team3/?view=pdf&file={pdf_path}&page={page + 1}\" target=\"_blank\">[{page + 1}]</a>'\n",
    "        \n",
    "        # Special case handling for the specific textbook format\n",
    "        if pdf_path.split(\"/\")[-2] == \"default\":  # Check if the PDF is the default textbook\n",
    "            link = default_textbook(page, pdf_path)  # Use the default_textbook function for citation\n",
    "\n",
    "        # Append the link to the sources list\n",
    "        sources.append(link)\n",
    "\n",
    "    # Join the top 5 sources with newlines for formatting\n",
    "    sources_info = \"\\nSources: \" + \"\".join(sources)\n",
    "    \n",
    "    # Format the final output string with the answer and sources\n",
    "    final_answer = f\"{answer}\\n\\n{sources_info}\"\n",
    "\n",
    "    # Output message indicating successful extraction of the answer\n",
    "    print(\"Answer extracted successfully.\")  \n",
    "    \n",
    "    # Return the final formatted answer string\n",
    "    return final_answer\n",
    "\n",
    "# response input simulating the output from the RAG chain\n",
    "response = {\n",
    "    'answer': \"This is the answer extracted from the RAG chain.\",\n",
    "    'context': [{'metadata': {'page': 34}}, {'metadata': {'page': 50}}]\n",
    "}\n",
    "\n",
    "# function call to get the answer with source information\n",
    "output = get_answer_with_source(response)\n",
    "\n",
    "# Print the output from the function call\n",
    "print(output)"
   ]
  },
  {
   "cell_type": "markdown",
   "id": "fadfc62f-ebff-4983-ac83-175c968a3a2d",
   "metadata": {},
   "source": [
    "#### Link Breakdown:\n",
    "\n",
    "href attribute:\n",
    "\n",
    "- URL: The base URL is /team3/?view=pdf&file= followed by the path to the PDF file and the page number.\n",
    "\n",
    "Target attribute:\n",
    "\n",
    "- `target=\"_blank\"` ensures that the link opens in a new tab or window, preserving the user's current session.\n",
    "\n",
    "Displayed text:\n",
    "\n",
    "- Each link displays the page number in brackets. For example: For page=35, the displayed text is [35]."
   ]
  }
 ],
 "metadata": {
  "kernelspec": {
   "display_name": "Python 3 (ipykernel)",
   "language": "python",
   "name": "python3"
  },
  "language_info": {
   "codemirror_mode": {
    "name": "ipython",
    "version": 3
   },
   "file_extension": ".py",
   "mimetype": "text/x-python",
   "name": "python",
   "nbconvert_exporter": "python",
   "pygments_lexer": "ipython3",
   "version": "3.12.6"
  }
 },
 "nbformat": 4,
 "nbformat_minor": 5
}
