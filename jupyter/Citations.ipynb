{
 "cells": [
  {
   "cell_type": "markdown",
   "id": "ca74f737-a3e3-4096-b1e8-751de6b451fa",
   "metadata": {},
   "source": [
    "# Documenation for backend/citations.py"
   ]
  },
  {
   "cell_type": "markdown",
   "id": "989471b5-c6c0-4d8c-864c-6e693a1e6c3c",
   "metadata": {},
   "source": [
    "### Description:\n",
    "1. `import os`\n",
    "\n",
    "Imports the os module, which provides functions to interact with the operating system.\n",
    "It allows the script to perform tasks like reading or modifying environment variables, handling file paths, or executing system commands.\n",
    "\n",
    "2. `from roman import toRoman`\n",
    "\n",
    "Imports the `toRoman` function from the roman module.\n",
    "The `toRoman` function converts an integer (e.g., 10) to its roman numeral representation (e.g., X). It is used for converting numbers into Roman numerals within the script.\n",
    "\n",
    "- This setup suggests the code will interact with the system and handle numeric conversions, likely using Roman numerals for certain outputs or data processing."
   ]
  },
  {
   "cell_type": "code",
   "execution_count": 2,
   "id": "0a364c75-69e9-490d-8057-954c3c1b013d",
   "metadata": {},
   "outputs": [
    {
     "name": "stdout",
     "output_type": "stream",
     "text": [
      "Modules imported: 'os' and 'toRoman' from the 'roman' package.\n"
     ]
    }
   ],
   "source": [
    "import os\n",
    "from roman import toRoman\n",
    "\n",
    "# Output message indicating action taken\n",
    "print(\"Modules imported: 'os' and 'toRoman' from the 'roman' package.\")"
   ]
  },
  {
   "cell_type": "markdown",
   "id": "6bdeb1ff-6d5c-4739-b7e0-021541ab6512",
   "metadata": {},
   "source": [
    "### Description:\n",
    "\n",
    "1.Iterate over the List of Context Documents:\n",
    "`for doc in response['context'][:5]:`\n",
    "\n",
    "- This line starts a loop that goes through the first five documents in the response['context']list. response['context'] presumably contains documents relevant to a query, and this code focuses only on the top five for brevity.\n",
    "\n",
    "2.Extracting File Name:\n",
    "`file_name = os.path.basename(document_path)`\n",
    "\n",
    "- `document_path` is a variable that contains the path to the document.\n",
    "- `os.path.basename(document_path)` extracts just the filename from the complete path, discarding the directory information.\n",
    "\n",
    "3. Get Page Number:\n",
    "`page = doc.metadata.get('page', 'Unknown page')`\n",
    "\n",
    "- This retrieves the page number of the current document (doc) from its metadata.\n",
    "- If the page number is not found, it defaults to 'Unknown page'.\n",
    "\n",
    "4. Adjust Page Number for Zero Indexing:\n",
    "`adjusted_page = page - 33`\n",
    "\n",
    "- The code adjusts the page number by subtracting 33. This adjustment appears to be based on a specific structure of the document, where Chapter 1 starts at what is considered page 34 in a PDF (index 33 in zero-based indexing).\n",
    "  \n",
    "5. Conditional Logic for Page Link Creation:\n",
    "   \n",
    " `if adjusted_page >= 0:  # For pages starting from Chapter 1\n",
    "      link = f'<a href=\"/team3/?view=pdf&file={file_name}&page={page + 1}\" target=\"_blank\">[{adjusted_page + 1}]</a>'\n",
    "  else:  # For pages before Chapter 1\n",
    "      adjusted_page = \"Cover\" if page == 0 else toRoman(page)\n",
    "      link = f'<a href=\"/team3/?view=pdf&file={file_name}&page={page + 1}\" target=\"_blank\">[{adjusted_page}]</a>'`\n",
    "   \n",
    "- If Condition: Checks if the adjusted_page is non-negative (meaning it's a page in Chapter 1 or later).\n",
    "\n",
    "    - If true, it constructs a link to that page, using page + 1 for human-readable page numbering (as people typically start counting from 1).\n",
    "    - The link is formatted as an HTML anchor tag.\n",
    "      \n",
    "- Else Condition: If adjusted_page is negative (for pages before Chapter 1):\n",
    "\n",
    "    - It checks if the original page is 0 (indicating the cover page) and assigns the string \"Cover\". If it's any other negative page, it converts the page number to a Roman numeral using the function toRoman(page).\n",
    "  \n",
    "    - A similar link is constructed for pages before Chapter 1.\n",
    "      \n",
    "6. Collecting the Links: `sources.append(link)`\n",
    "   \n",
    "- Each constructed link is appended to the sources list, which presumably collects all the links for later display.\n",
    "  \n",
    "7. Join the Links and Prepare Final Answer:\n",
    " `sources_info = \"\\nSources: \" + \"\".join(sources) final_answer = f\"{answer}\\n\\n{sources_info}\" return final_answer`\n",
    "\n",
    "    - The links in the sources list are joined into a single string, prefixed with \"Sources: \".\n",
    "    - The final answer combines the original answer with the formatted sources, separating them with newlines. The complete string (final_answer) is returned.\n",
    "      \n",
    "#### Process Overview: \n",
    "\n",
    "- This code iterates through a set of context documents, adjusts their page numbers for display purposes, constructs links to specific pages in a PDF file, and formats these links as HTML.\n",
    "  \n",
    "- Finally, it combines this information into a single output string, ready to be presented to the user."
   ]
  },
  {
   "cell_type": "code",
   "execution_count": 4,
   "id": "989533f5-2e7e-48fa-93ac-562640ae67ce",
   "metadata": {},
   "outputs": [
    {
     "name": "stdout",
     "output_type": "stream",
     "text": [
      "Citation link created.\n",
      "<a href=\"/team3/?view=pdf&file=sample.pdf&page=36\" target=\"_blank\">[3]</a>\n"
     ]
    }
   ],
   "source": [
    "from roman import toRoman\n",
    "\n",
    "def default_textbook(page, pdf_path):\n",
    "    # The documents are zero indexed. So page 1 of the pdf is page 0 in docs\n",
    "    # Chapter 1 starts at doc 33 (page 34 of the PDF)\n",
    "    adjusted_page = page - 33\n",
    "    if adjusted_page >= 0:  # For pages starting from Chapter 1\n",
    "        link = f'<a href=\"/team3/?view=pdf&file={pdf_path}&page={page + 1}\" target=\"_blank\">[{adjusted_page + 1}]</a>'\n",
    "    else:  # For pages before Chapter 1\n",
    "        adjusted_page = \"Cover\" if page == 0 else toRoman(page)\n",
    "        link = f'<a href=\"/team3/?view=pdf&file={pdf_path}&page={page + 1}\" target=\"_blank\">[{adjusted_page}]</a>'\n",
    "    \n",
    "    # Output message indicating action taken\n",
    "    print(\"Citation link created.\")\n",
    "    return link\n",
    "\n",
    "# Example function call\n",
    "citation_link = default_textbook(35, \"sample.pdf\")\n",
    "print(citation_link)"
   ]
  },
  {
   "cell_type": "markdown",
   "id": "b85460a6-1bea-491d-a8c6-cb57cec2bbc1",
   "metadata": {},
   "source": [
    "#### Link breakdown:\n",
    "\n",
    "<a href=\"/team3/?view=pdf&file=sample.pdf&page=36\" target=\"_blank\">[3]</a>\n",
    "\n",
    "If `page = 35` and `pdf_path = \"sample.pdf\"`, the function returns:\n",
    "Here’s the breakdown of the link:\n",
    "\n",
    "- URL: `/team3/?view=pdf&file=sample.pdf&page=36` — This opens `sample.pdf` to the specified page (36).\n",
    "\n",
    "- Displayed Text: `[3]` — This represents the adjusted page number within the document (after page 33), shown as 3 in this case.\n",
    "\n",
    "- The result is a clickable HTML link that users can use to access a specific page in the PDF."
   ]
  },
  {
   "cell_type": "markdown",
   "id": "da758afd-44d0-4356-be4a-871a312a0044",
   "metadata": {},
   "source": [
    "#### Description:\n",
    "\n",
    "1. `get_answer_with_source` : Extracts the answer and relevant source information from a RAG (Retrieval-Augmented Generation) response, returning a formatted string with the answer and citations from the source document.\n",
    "\n",
    "2. `response (dict)`: A dictionary containing: 'answer' (str): The answer extracted from the response. 'context' (list): A list of source references from which the answer is derived (typically containing page numbers or other identifiers).\n",
    "\n",
    "3. `document_path (str)`: A string representing the file path to the source document. This can be modified to point to a different document if necessary. Returns\n",
    "\n",
    "4. `str`: A formatted string that includes: The extracted answer. Up to three relevant source citations, formatted as page numbers. If no answer is found, it returns a default message.\n",
    "\n",
    "### Process Overview:\n",
    "\n",
    "- Retrieve the Answer: Use response.get('answer', 'No answer found.') to extract the answer. If the answer key is missing, a default message 'No answer found.' is assigned.\n",
    "\n",
    "- Initialize Sources List: Create an empty list sources to hold the relevant source references.\n",
    "\n",
    "- Extract Source Information: Iterate through the `response['context']` (assuming it is a list) to extract source information. This should typically be the page numbers or identifiers of the sources from which the answer was derived. Limit the number of sources collected to a maximum of three.\n",
    "\n",
    "- Format the Output: Construct a string that includes: The answer. A formatted citation section that lists the collected source references, if any.\n",
    "\n",
    "- Return the Formatted String: Return the complete formatted string, which combines the answer and the source information."
   ]
  },
  {
   "cell_type": "code",
   "execution_count": 7,
   "id": "b1b0cafc-2f55-42eb-b86b-22f105d40005",
   "metadata": {},
   "outputs": [
    {
     "name": "stdout",
     "output_type": "stream",
     "text": [
      "Answer extracted successfully.\n",
      "This is the answer extracted from the RAG chain.\n",
      "\n",
      "\n",
      "Sources: <a href=\"/team3/?view=pdf&file=/app/data/swebok/textbook.pdf&page=35\" target=\"_blank\">[35]</a><a href=\"/team3/?view=pdf&file=/app/data/swebok/textbook.pdf&page=51\" target=\"_blank\">[51]</a>\n"
     ]
    }
   ],
   "source": [
    "import os\n",
    "from roman import toRoman  # Assuming 'toRoman' is needed for the default_textbook function\n",
    "\n",
    "def get_answer_with_source(response):\n",
    "    \"\"\"\n",
    "    Extract the answer and relevant source information from the response.\n",
    "    This function processes the response from the RAG chain, extracting the answer\n",
    "    and up to 5 source references (page numbers) from the context documents.\n",
    "\n",
    "    Args:\n",
    "      response (dict): The response dictionary from the RAG chain, containing 'answer' and 'context' keys.\n",
    "    Returns:\n",
    "      str: A formatted string containing the answer followed by source information.\n",
    "    \"\"\"\n",
    "    pdf_path = f\"{os.getenv('CORPUS_SOURCE')}/textbook.pdf\"\n",
    "    answer = response.get('answer', 'No answer found.')  # Extract the answer\n",
    "    sources = []  # Handle multiple contexts in the response (assuming response['context'] is a list)\n",
    "    \n",
    "    # Iterate over context documents and get top 5 sources\n",
    "    for doc in response['context'][:5]:\n",
    "        page = doc['metadata'].get('page', 'Unknown page')  # Change dot notation to bracket notation\n",
    "        # PDFs are zero-indexed but the sources will start from 1\n",
    "        link = f'<a href=\"/team3/?view=pdf&file={pdf_path}&page={page + 1}\" target=\"_blank\">[{page + 1}]</a>'\n",
    "        \n",
    "        # Special case handling for a specific textbook\n",
    "        if pdf_path.split(\"/\")[-2] == \"default\":  # \"Software Engineering: A PRACTITIONER’S APPROACH\"\n",
    "            link = default_textbook(page, pdf_path)\n",
    "        sources.append(link)\n",
    "\n",
    "    # Join the top 5 sources with newlines\n",
    "    sources_info = \"\\nSources: \" + \"\".join(sources)\n",
    "    final_answer = f\"{answer}\\n\\n{sources_info}\"\n",
    "\n",
    "    # Output message indicating action taken\n",
    "    print(\"Answer extracted successfully.\")\n",
    "    return final_answer\n",
    "\n",
    "# Example response input\n",
    "response = {\n",
    "    'answer': \"This is the answer extracted from the RAG chain.\",\n",
    "    'context': [{'metadata': {'page': 34}}, {'metadata': {'page': 50}}]\n",
    "}\n",
    "\n",
    "# Example function call\n",
    "output = get_answer_with_source(response)\n",
    "print(output)"
   ]
  },
  {
   "cell_type": "markdown",
   "id": "fadfc62f-ebff-4983-ac83-175c968a3a2d",
   "metadata": {},
   "source": [
    "#### Link Breakdown:\n",
    "\n",
    "<a href=\"/team3/?view=pdf&file=/app/data/swebok/textbook.pdf&page=35\" target=\"_blank\">[35]</a><a href=\"/team3/?view=pdf&file=/app/data/swebok/textbook.pdf&page=51\" target=\"_blank\">[51]</a>\n",
    "\n",
    "href Attribute:\n",
    "\n",
    "- URL: The base URL is `/team3/?view=pdf&file=` followed by the path to the PDF file and the page number.\n",
    "  \n",
    "Example: For `page=35:`\n",
    "- The complete URL: `/team3/?view=pdf&file=/app/data/swebok/textbook.pdf&page=35`\n",
    "  \n",
    "Target Attribute:\n",
    "\n",
    "`target=\"_blank\"` ensures that the link opens in a new tab or window, preserving the user's current session.\n",
    "\n",
    "Displayed Text:\n",
    "\n",
    "- Each link displays the page number in brackets.\n",
    "- Example: For page=35, the displayed text is `[35]`.\n",
    "  \n",
    "Sources Information: \n",
    "The output lists up to five source links, joined together in a single line without line breaks, for easy copying or display in an HTML context."
   ]
  }
 ],
 "metadata": {
  "kernelspec": {
   "display_name": "Python 3 (ipykernel)",
   "language": "python",
   "name": "python3"
  },
  "language_info": {
   "codemirror_mode": {
    "name": "ipython",
    "version": 3
   },
   "file_extension": ".py",
   "mimetype": "text/x-python",
   "name": "python",
   "nbconvert_exporter": "python",
   "pygments_lexer": "ipython3",
   "version": "3.11.10"
  }
 },
 "nbformat": 4,
 "nbformat_minor": 5
}
