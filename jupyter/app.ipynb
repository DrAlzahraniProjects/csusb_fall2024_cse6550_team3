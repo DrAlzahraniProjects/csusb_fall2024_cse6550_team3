{
 "cells": [
  {
   "cell_type": "markdown",
   "id": "53990a3c-1414-4150-9868-900a0d1ce289",
   "metadata": {},
   "source": [
    "# SE Textbook Chatbot"
   ]
  },
  {
   "cell_type": "markdown",
   "id": "40295c0c-53db-4724-b7f4-b5d4b6c55d44",
   "metadata": {},
   "source": [
    "The textbook Chatbot project for CSE 6550 is designed to assist with queries related to the textbook \"Software Engineering: A Practitioner's Approach.\" The chatbot serves as an educational tool, helping users by providing information, answering questions, and possibly retrieving content from the textbook."
   ]
  },
  {
   "cell_type": "markdown",
   "id": "c81b2605-582d-4750-b214-5e71efc83617",
   "metadata": {},
   "source": [
    "## Documentation for app.py\n",
    "\n",
    "The `app.py` file sets up the environment for a web application, initializing a database and launching both a Streamlit frontend and a Jupyter Notebook server. It ensures only one instance of Streamlit runs and configures the system to serve the app and notebook on specific ports and paths."
   ]
  },
  {
   "cell_type": "code",
   "execution_count": null,
   "id": "ac9879ad-8c94-40b3-9ab3-ac283a8bf11c",
   "metadata": {},
   "outputs": [],
   "source": [
    "corpus_source = \"\" # If empty, app will default to using the textbook PDF\n",
    "\n",
    "import os\n",
    "import subprocess\n",
    "from frontend import streamlit\n",
    "from backend.statistics import init_db\n",
    "os.environ['CORPUS_SOURCE'] = corpus_source"
   ]
  },
  {
   "cell_type": "markdown",
   "id": "25a675be-f861-4c90-ac1c-2209678f3854",
   "metadata": {},
   "source": [
    "_Explanation_:\n",
    "\n",
    "1. `corpus_source = \"\"`\n",
    "\n",
    "- Initializes the corpus_source variable as an empty string.\n",
    "- If no value is provided to this variable, the program will default to using a textbook PDF (or another predefined default corpus) as the source of content.\n",
    "\n",
    "2. `import os`\n",
    "\n",
    "- Imports the os module, which provides functions to interact with the operating system.\n",
    "- This module is used for various operations like setting environment variables, managing paths, etc.\n",
    "\n",
    "3. `import subprocess`\n",
    "\n",
    "- Imports the subprocess module, which allows for running and managing system-level commands and subprocesses in the Python environment.\n",
    "- This module is useful for executing shell commands, running other programs, or interacting with the OS at a lower level.\n",
    "\n",
    "4. `from frontend import streamlit`\n",
    "\n",
    "- Imports the streamlit module from the frontend package.\n",
    "- Streamlit is typically used to build user interfaces for data apps or visualization tools, indicating that the frontend of the app may involve rendering through Streamlit.\n",
    "\n",
    "5. `from backend.statistics import init_db`\n",
    "\n",
    "- Imports the init_db function from the statistics module in the backend package.\n",
    "- This function is likely responsible for initializing a database to store or manage data, particularly statistics in this context.\n",
    "\n",
    "6. `os.environ['CORPUS_SOURCE'] = corpus_source`\n",
    "\n",
    "- Sets the environment variable CORPUS_SOURCE to the value of corpus_source.\n",
    "- This is essential to ensure that the operating system is aware of the source of the corpus being used. If corpus_source is an empty string, the application may default to using another predefined source (like the textbook PDF).\n",
    "\n",
    "_Process Overview:_\n",
    "\n",
    "1. Corpus Source Setup:\n",
    "- The code starts by initializing a variable, ```corpus_source```, to determine where the app will pull its text data from. If it's left blank, the app uses a default source (e.g., textbook PDF).\n",
    "\n",
    "2. System Environment Interaction:\n",
    "- The program then interacts with the OS to define the ```CORPUS_SOURCE``` environment variable, allowing other components of the app to reference this source dynamically.\n",
    "\n",
    "3. Frontend & Backend Initialization:\n",
    "- Modules for handling the frontend ```(streamlit)``` and backend operations ```(init_db)``` are imported, indicating this is part of a larger application setup, likely involving user interaction through a web-based interface and some form of database management.\n"
   ]
  },
  {
   "cell_type": "code",
   "execution_count": null,
   "id": "78253d18-3074-4d90-9a2e-ce49f157f0b1",
   "metadata": {},
   "outputs": [],
   "source": [
    "if __name__ == \"__main__\":\n",
    "    # If Streamlit instance is running\n",
    "    if os.environ.get(\"STREAMLIT_RUNNING\") == \"1\":\n",
    "        # Initialize the database\n",
    "        init_db()\n",
    "        # Start the Streamlit frontend\n",
    "        streamlit.main()\n",
    "    else:\n",
    "        # Set the environment variable to indicate Streamlit is running\n",
    "        os.environ[\"STREAMLIT_RUNNING\"] = \"1\"    \n",
    "        # Start Streamlit as a background process\n",
    "        subprocess.Popen([\"streamlit\", \"run\", __file__,\"--server.port=5003\", \"--server.address=0.0.0.0\", \"--server.baseUrlPath=/team3\"])\n",
    "        # Start Jupyter Notebook\n",
    "        subprocess.run([\"jupyter\", \"notebook\",\"--ip=0.0.0.0\", \"--port=6003\",\"--no-browser\", \"--allow-root\",\"--NotebookApp.base_url=/team3/jupyter\",\"--NotebookApp.token=''\", \"--NotebookApp.password=''\" ])"
   ]
  },
  {
   "cell_type": "markdown",
   "id": "a7bee534-0e96-4477-95a6-63f5d878fa12",
   "metadata": {},
   "source": [
    "_Explanation_:\n",
    "\n",
    "1. `if __name__ == \"__main__\":`\n",
    "\n",
    "- This condition checks if the script is being run as the main module.\n",
    "- Python executes the code inside this block only if the file is run directly (not imported as a module). This is a common Python idiom to ensure that certain initialization code runs when executing the script.\n",
    "\n",
    "2. `if os.environ.get(\"STREAMLIT_RUNNING\") == \"1\":`\n",
    "\n",
    "- Checks if the environment variable STREAMLIT_RUNNING is set to \"1\".\n",
    "- This indicates whether a Streamlit instance is already running. The application uses this to prevent launching multiple instances of Streamlit.\n",
    "\n",
    "3. `init_db()`\n",
    "\n",
    "- Calls the function to initialize the database.\n",
    "- If the Streamlit app is already running, it initializes the database using the init_db function, which likely sets up or connects to a database needed for the app’s operation.\n",
    "\n",
    "4. `streamlit.main()`\n",
    "\n",
    "- Starts the Streamlit frontend.\n",
    "- This launches the main function of the Streamlit app, initializing the user interface and allowing the application to be displayed to users.\n",
    "\n",
    "5. `else:`\n",
    "\n",
    "- Executes if STREAMLIT_RUNNING is not set to \"1\" (i.e., Streamlit is not running).\n",
    "- This block runs when no instance of Streamlit is active. It sets up the environment and launches Streamlit and Jupyter Notebook processes.\n",
    "\n",
    "6. `os.environ[\"STREAMLIT_RUNNING\"] = \"1\"`\n",
    "\n",
    "- Sets the ```STREAMLIT_RUNNING``` environment variable to \"1\".\n",
    "- This marks that the Streamlit instance is running, preventing another instance from being launched during the same execution.\n",
    "\n",
    "7. `subprocess.Popen([\"streamlit\", \"run\", __file__, \"--server.port=5003\", \"--server.address=0.0.0.0\", \"--server.baseUrlPath=/team3\"])`\n",
    "\n",
    "- Starts Streamlit as a background process.\n",
    "- This uses the subprocess.Popen function to launch the Streamlit app, specifying the port ```(5003)```, server address ```(0.0.0.0)```, and base URL path ```(/team3)```. This allows the app to run in the background while other tasks (such as launching Jupyter Notebook) continue.\n",
    "\n",
    "8. `subprocess.run([\"jupyter\", \"notebook\",\"--ip=0.0.0.0\", \"--port=6003\",\"--no-browser\", \"--allow-root\",\"--NotebookApp.base_url=/team3/jupyter\",\"--NotebookApp.token=''\", \"--NotebookApp.password=''\"])`\n",
    "   \n",
    "- Launches Jupyter Notebook in the foreground.\n",
    "This command starts a Jupyter Notebook server, specifying the IP ```(0.0.0.0)```, port ```(6003)```, and base URL path ```(/team3/jupyter)```. \n",
    "\n",
    "- It also disables browser auto-launch ```(--no-browser)```, allows root access ```(--allow-root)```, and removes authentication requirements by setting empty token and password options. This makes the notebook accessible without needing to log in.\n",
    "\n",
    "_Process Overview_:\n",
    "\n",
    "- Main Execution:\n",
    "When the script is run, it checks if a Streamlit instance is already running via the environment variable STREAMLIT_RUNNING.\n",
    "\n",
    "- Streamlit Frontend:\n",
    "If Streamlit is already running, the database is initialized, and the frontend is started. If it’s not running, the environment is updated to mark Streamlit as running, and a new instance is launched as a background process.\n",
    "\n",
    "- Jupyter Notebook:\n",
    "Alongside Streamlit, the script starts a Jupyter Notebook server on port 6003 with a custom base URL (/team3/jupyter). The notebook is accessible without any token or password authentication."
   ]
  }
 ],
 "metadata": {
  "kernelspec": {
   "display_name": "Python 3 (ipykernel)",
   "language": "python",
   "name": "python3"
  },
  "language_info": {
   "codemirror_mode": {
    "name": "ipython",
    "version": 3
   },
   "file_extension": ".py",
   "mimetype": "text/x-python",
   "name": "python",
   "nbconvert_exporter": "python",
   "pygments_lexer": "ipython3",
   "version": "3.12.6"
  }
 },
 "nbformat": 4,
 "nbformat_minor": 5
}
