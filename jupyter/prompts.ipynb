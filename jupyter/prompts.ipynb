{
 "cells": [
  {
   "cell_type": "markdown",
   "id": "0a5bc28d-6a70-4253-8fb4-b45d581077c1",
   "metadata": {},
   "source": [
    "# Documenation for backend/prompts.py"
   ]
  },
  {
   "cell_type": "markdown",
   "id": "85adf3cf-b09d-47f1-9ebd-bdf03a982837",
   "metadata": {},
   "source": [
    "#### Description::\n",
    "\n",
    "Imports `ChatPromptTemplate` : Facilitates structured conversation prompts for efficient chatbot interactions.\n",
    "Defines system instructions: Establishes rules for accurate, concise responses about software engineering.\n",
    "Limits response length: Restricts answers to 256 tokens for user clarity.\n",
    "Clarifies chatbot identity: Ensures users know they are interacting with a chatbot.\n",
    "Encourages clarification requests: Promotes seeking additional information for ambiguous or unclear questions.\n",
    "Creates Prompt Template: Structures the conversation flow between chatbot and user effectively.\n",
    "Describes Chatbot Function: Provides a clear explanation of the chatbot's purpose and scope."
   ]
  },
  {
   "cell_type": "code",
   "execution_count": 14,
   "id": "2d28231c-eddf-45a4-9472-f8e3dcdc6675",
   "metadata": {},
   "outputs": [
    {
     "name": "stdout",
     "output_type": "stream",
     "text": [
      "Chatbot prompt for answering textbook-related questions.\n"
     ]
    }
   ],
   "source": [
    "# Imports ChatPromptTemplate for creating structured chat prompts.\n",
    "from langchain_core.prompts import ChatPromptTemplate \n",
    "\n",
    "# Prompts\n",
    "system_prompt = \"\"\"  # Defines a multi-line string containing system instructions for the chatbot.\n",
    "You are a chatbot answering questions about \"Software Engineering: A Practitioner's Approach\" textbook.  # Specifies the chatbot's context and focus area.\n",
    "\n",
    "1. Always identify yourself as a chatbot, not the textbook.  # Instructs the chatbot to clarify its identity.\n",
    "2. Answer based only on provided context.  # Emphasizes using only the relevant context for responses.\n",
    "3. If unsure, say \"I don't have enough information to answer.\"  # Guides the chatbot on handling uncertainty in answers.\n",
    "4. For unclear questions, ask for clarification.  # Encourages the chatbot to seek more information for ambiguous questions.\n",
    "5. Keep responses under 256 tokens.  # Sets a limit on response length for conciseness.\n",
    "6. Don't invent information.  # Instructs the chatbot to refrain from generating unsupported information.\n",
    "7. Use context only if relevant.  # Advises the chatbot to incorporate context judiciously.\n",
    "8. To questions about your purpose, say: \"I'm a chatbot designed to answer questions about the 'Software Engineering: A Practitioner's Approach' textbook.\"  # Provides a standard response for inquiries about the chatbot's function.\n",
    "\n",
    "Be accurate and concise. Answer only what's asked.  # Reinforces the importance of precision and relevance in responses.\n",
    "\"\"\"\n",
    "\n",
    "# Create the chat prompt template\n",
    "prompt = ChatPromptTemplate.from_messages([  # Creates a chat prompt template from the defined messages.\n",
    "    (\"system\", system_prompt),  # Sets the system prompt as the first message.\n",
    "    (\"human\", \"Question: {input}\\n\\nRelevant Context:\\n{context}\"),  # Defines the human user input format.\n",
    "])\n",
    "\n",
    "def get_chatbot_prompt_description():  # Defines a function that returns a description of the chatbot prompt.\n",
    "    return \"Chatbot prompt for answering textbook-related questions.\"  # Returns a brief description of the chatbot's purpose.\n",
    "\n",
    "# Calls the function to get the prompt description.\n",
    "output = get_chatbot_prompt_description()  \n",
    "print(output)  # Prints the description of the chatbot prompt."
   ]
  }
 ],
 "metadata": {
  "kernelspec": {
   "display_name": "Python 3 (ipykernel)",
   "language": "python",
   "name": "python3"
  },
  "language_info": {
   "codemirror_mode": {
    "name": "ipython",
    "version": 3
   },
   "file_extension": ".py",
   "mimetype": "text/x-python",
   "name": "python",
   "nbconvert_exporter": "python",
   "pygments_lexer": "ipython3",
   "version": "3.12.6"
  }
 },
 "nbformat": 4,
 "nbformat_minor": 5
}
