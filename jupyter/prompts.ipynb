{
 "cells": [
  {
   "cell_type": "markdown",
   "id": "0a5bc28d-6a70-4253-8fb4-b45d581077c1",
   "metadata": {},
   "source": [
    "# Documenation for backend/prompts.py"
   ]
  },
  {
   "cell_type": "markdown",
   "id": "85adf3cf-b09d-47f1-9ebd-bdf03a982837",
   "metadata": {},
   "source": [
    "#### Description:\n",
    "\n",
    "### Imports:\n",
    "\n",
    "- `from langchain_core.prompts import ChatPromptTemplate`\n",
    "- `ChatPromptTemplate` : A class from the Langchain library used to create structured prompts for chat-based interactions.\n",
    "\n",
    "### Prompts :\n",
    "\n",
    "```\n",
    "system_prompt = \"\"\"\n",
    "You are a chatbot answering questions about \"Software Engineering: A Practitioner's Approach\" textbook.\n",
    "\n",
    "1. Always identify yourself as a chatbot, not the textbook.\n",
    "2. Answer based only on provided context.\n",
    "3. If unsure, say \"I don't have enough information to answer.\"\n",
    "4. For unclear questions, ask for clarification.\n",
    "5. Keep responses under 256 tokens.\n",
    "6. Don't invent information.\n",
    "7. Use context only if relevant.\n",
    "8. To questions about your purpose, say: \"I'm a chatbot designed to answer questions about the 'Software Engineering: A Practitioner's Approach' textbook.\"\n",
    "\n",
    "Be accurate and concise. Answer only what's asked.\n",
    "\"\"\"\n",
    "```\n",
    "\n",
    "a. system_prompt:\n",
    "\n",
    "- A multi-line string that provides guidelines for the chatbot’s behavior and response style. The prompt includes specific rules that the chatbot must follow:\n",
    "    - Identify as a chatbot: Clarifies the chatbot's identity.\n",
    "    - Contextual Answers: Emphasizes that responses should be based solely on provided context.\n",
    "    - Handling Uncertainty: Instructs the chatbot to acknowledge when it lacks sufficient information.\n",
    "    - Clarification Requests: Encourages the chatbot to seek clarification for unclear questions.\n",
    "    - Response Length: Limits responses to a maximum of 256 tokens.\n",
    "    - Avoiding Fabrication: Prohibits the invention of information.\n",
    "    - Relevant Context: Specifies that context should only be used if pertinent to the question.\n",
    "    - Purpose Clarification: Provides a standard response for questions about the chatbot’s purpose.\n",
    "      \n",
    "b. Chat Prompt Template Creation :\n",
    "\n",
    "`prompt = ChatPromptTemplate.from_messages([\n",
    "  (\"system\", system_prompt),\n",
    "  (\"human\", \"Question: {input}\\n\\nRelevant Context:\\n{context}\"),\n",
    "])`\n",
    "\n",
    "\n",
    "- `prompt` :An instance of ChatPromptTemplate created using the from_messages method. It defines the structure of the conversation between the user (human) and the chatbot (system):\n",
    "    - System Message: Contains the `system_prompt`, setting the rules for the chatbot.\n",
    "    - Human Message: Defines how user input should be formatted, including placeholders for the question `({input})` and any relevant `context ({context})`.\n",
    "\n",
    "- `get_chatbot_prompt_description`: Which returns a string describing the chatbot's purpose for answering textbook-related questions.\n",
    "\n",
    "- The function is called, and its output is printed. The output displays the string: \"Chatbot prompt for answering textbook-related questions.\""
   ]
  },
  {
   "cell_type": "code",
   "execution_count": 14,
   "id": "2d28231c-eddf-45a4-9472-f8e3dcdc6675",
   "metadata": {},
   "outputs": [
    {
     "name": "stdout",
     "output_type": "stream",
     "text": [
      "Chatbot prompt for answering textbook-related questions.\n"
     ]
    }
   ],
   "source": [
    "from langchain_core.prompts import ChatPromptTemplate\n",
    "\n",
    "# Prompts\n",
    "system_prompt = \"\"\"\n",
    "You are a chatbot answering questions about \"Software Engineering: A Practitioner's Approach\" textbook.\n",
    "\n",
    "1. Always identify yourself as a chatbot, not the textbook.\n",
    "2. Answer based only on provided context.\n",
    "3. If unsure, say \"I don't have enough information to answer.\"\n",
    "4. For unclear questions, ask for clarification.\n",
    "5. Keep responses under 256 tokens.\n",
    "6. Don't invent information.\n",
    "7. Use context only if relevant.\n",
    "8. To questions about your purpose, say: \"I'm a chatbot designed to answer questions about the 'Software Engineering: A Practitioner's Approach' textbook.\"\n",
    "\n",
    "Be accurate and concise. Answer only what's asked.\n",
    "\"\"\"\n",
    "\n",
    "# Create the chat prompt template\n",
    "prompt = ChatPromptTemplate.from_messages([\n",
    "    (\"system\", system_prompt),\n",
    "    (\"human\", \"Question: {input}\\n\\nRelevant Context:\\n{context}\"),\n",
    "])\n",
    "\n",
    "def get_chatbot_prompt_description():\n",
    "    return \"Chatbot prompt for answering textbook-related questions.\"\n",
    "\n",
    "# Call the function and print the output\n",
    "output = get_chatbot_prompt_description()\n",
    "print(output)"
   ]
  }
 ],
 "metadata": {
  "kernelspec": {
   "display_name": "Python 3 (ipykernel)",
   "language": "python",
   "name": "python3"
  },
  "language_info": {
   "codemirror_mode": {
    "name": "ipython",
    "version": 3
   },
   "file_extension": ".py",
   "mimetype": "text/x-python",
   "name": "python",
   "nbconvert_exporter": "python",
   "pygments_lexer": "ipython3",
   "version": "3.11.10"
  }
 },
 "nbformat": 4,
 "nbformat_minor": 5
}
